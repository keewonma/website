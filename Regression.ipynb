{
  "nbformat": 4,
  "nbformat_minor": 0,
  "metadata": {
    "colab": {
      "name": "Regression.ipynb",
      "provenance": [],
      "include_colab_link": true
    },
    "kernelspec": {
      "name": "python3",
      "display_name": "Python 3"
    }
  },
  "cells": [
    {
      "cell_type": "markdown",
      "metadata": {
        "id": "view-in-github",
        "colab_type": "text"
      },
      "source": [
        "<a href=\"https://colab.research.google.com/github/keewonma/website/blob/master/Regression.ipynb\" target=\"_parent\"><img src=\"https://colab.research.google.com/assets/colab-badge.svg\" alt=\"Open In Colab\"/></a>"
      ]
    },
    {
      "cell_type": "code",
      "metadata": {
        "id": "N7JM8JKfAjH5",
        "colab_type": "code",
        "colab": {
          "base_uri": "https://localhost:8080/",
          "height": 51
        },
        "outputId": "3a311ea2-a444-4844-f34e-b7e66c9711e2"
      },
      "source": [
        "#Get data from google drive folder\n",
        "from google.colab import drive\n",
        "drive.mount('/content/gdrive', force_remount=True)\n",
        "!cd gdrive\n",
        "!ls"
      ],
      "execution_count": 1,
      "outputs": [
        {
          "output_type": "stream",
          "text": [
            "Mounted at /content/gdrive\n",
            "gdrive\tsample_data\n"
          ],
          "name": "stdout"
        }
      ]
    },
    {
      "cell_type": "markdown",
      "metadata": {
        "id": "fEk4wS3rAlqS",
        "colab_type": "text"
      },
      "source": [
        "# Basic Linear Regresssion from scratch"
      ]
    },
    {
      "cell_type": "code",
      "metadata": {
        "id": "UItDQc0k_AE4",
        "colab_type": "code",
        "outputId": "a1c87b6a-07ae-4e18-8420-7b4a4890b7f3",
        "colab": {
          "base_uri": "https://localhost:8080/",
          "height": 102
        }
      },
      "source": [
        "#import libraries\n",
        "import matplotlib.pyplot as plt\n",
        "import numpy as np\n",
        "import os \n",
        "\n",
        "#GET DATA\n",
        "data_folder = os.getcwd() + '/gdrive/My Drive/Colab Notebooks/website/' #get current working directory + folder its in\n",
        "data = np.genfromtxt(data_folder + 'data/LRData.csv', delimiter=',', skip_header=1) #read in the data\n",
        "print(data[:5,:5]) # look at the first 5 rows"
      ],
      "execution_count": 3,
      "outputs": [
        {
          "output_type": "stream",
          "text": [
            "[[53.42680403 68.77759598]\n",
            " [61.53035803 62.5623823 ]\n",
            " [47.47563963 71.54663223]\n",
            " [59.81320787 87.23092513]\n",
            " [55.14218841 78.21151827]]\n"
          ],
          "name": "stdout"
        }
      ]
    },
    {
      "cell_type": "code",
      "metadata": {
        "id": "2bes9mH-BV5R",
        "colab_type": "code",
        "colab": {}
      },
      "source": [
        "# MATRIX MATH\n",
        "X = data[:,0].reshape(-1,1) #get first column (index 0) and convert it into a matrix x (-1 tells numpy to figure out the dimensions)\n",
        "ones = np.ones([X.shape[0], 1])# create an array of ones only\n",
        "X = np.concatenate([ones, X],1) #concatenate the ones to X matrix (link X to ones matrix) \n",
        "y = data[:, 1].reshape(-1,1) #get second column (index 1) and convert it into a matrix y"
      ],
      "execution_count": 0,
      "outputs": []
    },
    {
      "cell_type": "code",
      "metadata": {
        "id": "BKvcCnsfBm-w",
        "colab_type": "code",
        "outputId": "923354e9-ab82-4892-9d6b-ff581845b2a3",
        "colab": {
          "base_uri": "https://localhost:8080/",
          "height": 286
        }
      },
      "source": [
        "#VISUALIZE\n",
        "plt.scatter(data[:,0].reshape(-1,1), y)"
      ],
      "execution_count": 5,
      "outputs": [
        {
          "output_type": "execute_result",
          "data": {
            "text/plain": [
              "<matplotlib.collections.PathCollection at 0x7f4b90106908>"
            ]
          },
          "metadata": {
            "tags": []
          },
          "execution_count": 5
        },
        {
          "output_type": "display_data",
          "data": {
            "image/png": "[encoded data removed]",
            "text/plain": [
              "<Figure size 432x288 with 1 Axes>"
            ]
          },
          "metadata": {
            "tags": []
          }
        }
      ]
    },
    {
      "cell_type": "code",
      "metadata": {
        "id": "uiSYxWtTDy0r",
        "colab_type": "code",
        "colab": {}
      },
      "source": [
        "#SET HYPERPARAMETERS - the parameters that will change your model\n",
        "alpha = 0.0001\n",
        "iters = 100\n",
        "theta = np.array([[1.0, 1.0]]) #theta is the row vector representing the slope and the intercept of the line equation aka the mx"
      ],
      "execution_count": 0,
      "outputs": []
    },
    {
      "cell_type": "code",
      "metadata": {
        "id": "a3gcl3QaEV-j",
        "colab_type": "code",
        "colab": {}
      },
      "source": [
        "#CREATE A COST FUNCTION\n",
        "def computeCost(X,y, theta):\n",
        "  '''\n",
        "  Estimate how wrong the model is able to estimate the relationship between X and y using squared error function\n",
        "  input - X,y, theta\n",
        "  output - squared error \n",
        "  inner calculates and returns\n",
        "        the dot product of X and theta raised to the power two\n",
        "        divided by 2 times the length of X\n",
        "\n",
        "  1. find the difference in the predicted values (y_pred) and the original values (y), \n",
        "  2 .Sum it up\n",
        "  3. Average it\n",
        "  4. Returned value is cost\n",
        "  '''\n",
        "  inner = np.power(((X @ theta.T) - y), 2) #@ is matrix multiplication of arrays, * would require conversion from arrays to matrices\n",
        "  return np.sum(inner)/(2 * len(X))"
      ],
      "execution_count": 0,
      "outputs": []
    },
    {
      "cell_type": "code",
      "metadata": {
        "id": "INEZ__a8E0Qj",
        "colab_type": "code",
        "outputId": "eabb0bb9-64fd-43e7-a191-0deb6bbdb1e6",
        "colab": {
          "base_uri": "https://localhost:8080/",
          "height": 34
        }
      },
      "source": [
        "computeCost(X,y, theta) # trying it on the data"
      ],
      "execution_count": 8,
      "outputs": [
        {
          "output_type": "execute_result",
          "data": {
            "text/plain": [
              "322.6163633088533"
            ]
          },
          "metadata": {
            "tags": []
          },
          "execution_count": 8
        }
      ]
    },
    {
      "cell_type": "code",
      "metadata": {
        "id": "oboxe2sqFxV6",
        "colab_type": "code",
        "colab": {}
      },
      "source": [
        "#GRADIENT DESCENT - Reducing the Cost function\n",
        "def gradientDescent(X,y, theta, alpha, iters):\n",
        "  '''\n",
        "  Minimize Cost Function by finding the optimum value for the theta parameter so the cost decreases\n",
        "  input X,y, theta, alpha, iters\n",
        "  output theta and cost\n",
        "  '''\n",
        "  for i in range(iters):\n",
        "    theta = theta - (alpha/len(X)) * np.sum(X *(X @ theta.T - y), axis=0)\n",
        "    cost = computeCost(X,y, theta)\n",
        "  return theta, cost"
      ],
      "execution_count": 0,
      "outputs": []
    },
    {
      "cell_type": "code",
      "metadata": {
        "id": "Pttdcsw0HJ6F",
        "colab_type": "code",
        "outputId": "263ae61f-5a5b-4879-f88b-69c832b42425",
        "colab": {
          "base_uri": "https://localhost:8080/",
          "height": 34
        }
      },
      "source": [
        "iters = 1000\n",
        "g, cost = gradientDescent(X,y, theta, alpha, iters)\n",
        "print(g)"
      ],
      "execution_count": 10,
      "outputs": [
        {
          "output_type": "stream",
          "text": [
            "[[1.04174343 1.46121311]]\n"
          ],
          "name": "stdout"
        }
      ]
    },
    {
      "cell_type": "code",
      "metadata": {
        "id": "0o2g7P5vJq0U",
        "colab_type": "code",
        "outputId": "020c9931-9794-412b-ea30-2fad6c14e9ea",
        "colab": {
          "base_uri": "https://localhost:8080/",
          "height": 286
        }
      },
      "source": [
        "plt.scatter(data[:,0].reshape(-1,1), y)\n",
        "axes = plt.gca()\n",
        "x_vals = np.array(axes.get_xlim())\n",
        "y_vals = g[0][0] + g[0][1] * x_vals\n",
        "plt.plot(x_vals, y_vals, '--')"
      ],
      "execution_count": 11,
      "outputs": [
        {
          "output_type": "execute_result",
          "data": {
            "text/plain": [
              "[<matplotlib.lines.Line2D at 0x7f4b8d82c780>]"
            ]
          },
          "metadata": {
            "tags": []
          },
          "execution_count": 11
        },
        {
          "output_type": "display_data",
          "data": {
            "image/png": "[encoded data removed]",
            "text/plain": [
              "<Figure size 432x288 with 1 Axes>"
            ]
          },
          "metadata": {
            "tags": []
          }
        }
      ]
    },
    {
      "cell_type": "code",
      "metadata": {
        "id": "SvAJc90PLoPV",
        "colab_type": "code",
        "colab": {}
      },
      "source": [
        ""
      ],
      "execution_count": 0,
      "outputs": []
    }
  ]
}